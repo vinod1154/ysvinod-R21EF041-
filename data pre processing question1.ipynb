{
 "cells": [
  {
   "cell_type": "code",
   "execution_count": 1,
   "id": "44565117",
   "metadata": {},
   "outputs": [],
   "source": [
    "import numpy as np\n",
    "import pandas as pd"
   ]
  },
  {
   "cell_type": "code",
   "execution_count": 2,
   "id": "90ee0fb9",
   "metadata": {},
   "outputs": [],
   "source": [
    "df=pd.read_csv(\"gamification-software-testing-engagement-performance-test-effectiveness.csv\")"
   ]
  },
  {
   "cell_type": "code",
   "execution_count": 7,
   "id": "a50890a5",
   "metadata": {},
   "outputs": [
    {
     "data": {
      "text/html": [
       "<div>\n",
       "<style scoped>\n",
       "    .dataframe tbody tr th:only-of-type {\n",
       "        vertical-align: middle;\n",
       "    }\n",
       "\n",
       "    .dataframe tbody tr th {\n",
       "        vertical-align: top;\n",
       "    }\n",
       "\n",
       "    .dataframe thead th {\n",
       "        text-align: right;\n",
       "    }\n",
       "</style>\n",
       "<table border=\"1\" class=\"dataframe\">\n",
       "  <thead>\n",
       "    <tr style=\"text-align: right;\">\n",
       "      <th></th>\n",
       "      <th>Academic Year|ID Student|Race Effectiveness|Exercise1 Effectiveness|Exercise2 Effectiveness|Exercise3 Effectiveness|Exercise4 Effectiveness|Race Effectiveness Increase|Exercise1 Effectiveness Increase|Exercise 2 Effectiveness Increase|Exercise3 Effectiveness Increase|Exercise4 Effectiveness Increase|Race Participation|Exercise1 Participation|Exercise2 Participation|Exercise3 Participation|Exercise4 Participation|Race Dropout|Exercise1 Dropout|Exercise2 Dropout|Exercise3 Dropout|Exercise4 Dropout|Race Active Time|Exercise1 Active Time|Exercise2 Active Time|Exercise3 Active Time|Exercise4 Active Time|Race Number Executions|Exercise1 Number Executions|Exercise2 Number Executions|Exercise3 Number Executions|Exercise4 Number Executions</th>\n",
       "    </tr>\n",
       "  </thead>\n",
       "  <tbody>\n",
       "    <tr>\n",
       "      <th>0</th>\n",
       "      <td>2019-2020|19-20Student001|19|0|55|7.0|0.0|0.07...</td>\n",
       "    </tr>\n",
       "    <tr>\n",
       "      <th>1</th>\n",
       "      <td>2019-2020|19-20Student002|97|100|90|100.0|100....</td>\n",
       "    </tr>\n",
       "    <tr>\n",
       "      <th>2</th>\n",
       "      <td>2019-2020|19-20Student003|100|100|100|100.0|10...</td>\n",
       "    </tr>\n",
       "    <tr>\n",
       "      <th>3</th>\n",
       "      <td>2019-2020|19-20Student004|89|100|100|53.0|100....</td>\n",
       "    </tr>\n",
       "    <tr>\n",
       "      <th>4</th>\n",
       "      <td>2019-2020|19-20Student005|84|100|100|40.0|91.0...</td>\n",
       "    </tr>\n",
       "  </tbody>\n",
       "</table>\n",
       "</div>"
      ],
      "text/plain": [
       "  Academic Year|ID Student|Race Effectiveness|Exercise1 Effectiveness|Exercise2 Effectiveness|Exercise3 Effectiveness|Exercise4 Effectiveness|Race Effectiveness Increase|Exercise1 Effectiveness Increase|Exercise 2 Effectiveness Increase|Exercise3 Effectiveness Increase|Exercise4 Effectiveness Increase|Race Participation|Exercise1 Participation|Exercise2 Participation|Exercise3 Participation|Exercise4 Participation|Race Dropout|Exercise1 Dropout|Exercise2 Dropout|Exercise3 Dropout|Exercise4 Dropout|Race Active Time|Exercise1 Active Time|Exercise2 Active Time|Exercise3 Active Time|Exercise4 Active Time|Race Number Executions|Exercise1 Number Executions|Exercise2 Number Executions|Exercise3 Number Executions|Exercise4 Number Executions\n",
       "0  2019-2020|19-20Student001|19|0|55|7.0|0.0|0.07...                                                                                                                                                                                                                                                                                                                                                                                                                                                                                                                                                                                                                                                                                                                  \n",
       "1  2019-2020|19-20Student002|97|100|90|100.0|100....                                                                                                                                                                                                                                                                                                                                                                                                                                                                                                                                                                                                                                                                                                                  \n",
       "2  2019-2020|19-20Student003|100|100|100|100.0|10...                                                                                                                                                                                                                                                                                                                                                                                                                                                                                                                                                                                                                                                                                                                  \n",
       "3  2019-2020|19-20Student004|89|100|100|53.0|100....                                                                                                                                                                                                                                                                                                                                                                                                                                                                                                                                                                                                                                                                                                                  \n",
       "4  2019-2020|19-20Student005|84|100|100|40.0|91.0...                                                                                                                                                                                                                                                                                                                                                                                                                                                                                                                                                                                                                                                                                                                  "
      ]
     },
     "execution_count": 7,
     "metadata": {},
     "output_type": "execute_result"
    }
   ],
   "source": [
    "df.head()"
   ]
  },
  {
   "cell_type": "code",
   "execution_count": 8,
   "id": "d6e04853",
   "metadata": {},
   "outputs": [
    {
     "data": {
      "text/html": [
       "<div>\n",
       "<style scoped>\n",
       "    .dataframe tbody tr th:only-of-type {\n",
       "        vertical-align: middle;\n",
       "    }\n",
       "\n",
       "    .dataframe tbody tr th {\n",
       "        vertical-align: top;\n",
       "    }\n",
       "\n",
       "    .dataframe thead th {\n",
       "        text-align: right;\n",
       "    }\n",
       "</style>\n",
       "<table border=\"1\" class=\"dataframe\">\n",
       "  <thead>\n",
       "    <tr style=\"text-align: right;\">\n",
       "      <th></th>\n",
       "      <th>Academic Year|ID Student|Race Effectiveness|Exercise1 Effectiveness|Exercise2 Effectiveness|Exercise3 Effectiveness|Exercise4 Effectiveness|Race Effectiveness Increase|Exercise1 Effectiveness Increase|Exercise 2 Effectiveness Increase|Exercise3 Effectiveness Increase|Exercise4 Effectiveness Increase|Race Participation|Exercise1 Participation|Exercise2 Participation|Exercise3 Participation|Exercise4 Participation|Race Dropout|Exercise1 Dropout|Exercise2 Dropout|Exercise3 Dropout|Exercise4 Dropout|Race Active Time|Exercise1 Active Time|Exercise2 Active Time|Exercise3 Active Time|Exercise4 Active Time|Race Number Executions|Exercise1 Number Executions|Exercise2 Number Executions|Exercise3 Number Executions|Exercise4 Number Executions</th>\n",
       "    </tr>\n",
       "  </thead>\n",
       "  <tbody>\n",
       "    <tr>\n",
       "      <th>count</th>\n",
       "      <td>235</td>\n",
       "    </tr>\n",
       "    <tr>\n",
       "      <th>unique</th>\n",
       "      <td>235</td>\n",
       "    </tr>\n",
       "    <tr>\n",
       "      <th>top</th>\n",
       "      <td>2019-2020|19-20Student001|19|0|55|7.0|0.0|0.07...</td>\n",
       "    </tr>\n",
       "    <tr>\n",
       "      <th>freq</th>\n",
       "      <td>1</td>\n",
       "    </tr>\n",
       "  </tbody>\n",
       "</table>\n",
       "</div>"
      ],
      "text/plain": [
       "       Academic Year|ID Student|Race Effectiveness|Exercise1 Effectiveness|Exercise2 Effectiveness|Exercise3 Effectiveness|Exercise4 Effectiveness|Race Effectiveness Increase|Exercise1 Effectiveness Increase|Exercise 2 Effectiveness Increase|Exercise3 Effectiveness Increase|Exercise4 Effectiveness Increase|Race Participation|Exercise1 Participation|Exercise2 Participation|Exercise3 Participation|Exercise4 Participation|Race Dropout|Exercise1 Dropout|Exercise2 Dropout|Exercise3 Dropout|Exercise4 Dropout|Race Active Time|Exercise1 Active Time|Exercise2 Active Time|Exercise3 Active Time|Exercise4 Active Time|Race Number Executions|Exercise1 Number Executions|Exercise2 Number Executions|Exercise3 Number Executions|Exercise4 Number Executions\n",
       "count                                                 235                                                                                                                                                                                                                                                                                                                                                                                                                                                                                                                                                                                                                                                                                                                  \n",
       "unique                                                235                                                                                                                                                                                                                                                                                                                                                                                                                                                                                                                                                                                                                                                                                                                  \n",
       "top     2019-2020|19-20Student001|19|0|55|7.0|0.0|0.07...                                                                                                                                                                                                                                                                                                                                                                                                                                                                                                                                                                                                                                                                                                                  \n",
       "freq                                                    1                                                                                                                                                                                                                                                                                                                                                                                                                                                                                                                                                                                                                                                                                                                  "
      ]
     },
     "execution_count": 8,
     "metadata": {},
     "output_type": "execute_result"
    }
   ],
   "source": [
    "df.describe()"
   ]
  },
  {
   "cell_type": "code",
   "execution_count": 9,
   "id": "651b4177",
   "metadata": {},
   "outputs": [
    {
     "data": {
      "text/plain": [
       "(235, 1)"
      ]
     },
     "execution_count": 9,
     "metadata": {},
     "output_type": "execute_result"
    }
   ],
   "source": [
    "df.shape"
   ]
  },
  {
   "cell_type": "code",
   "execution_count": 10,
   "id": "a6a76e43",
   "metadata": {},
   "outputs": [
    {
     "data": {
      "text/html": [
       "<div>\n",
       "<style scoped>\n",
       "    .dataframe tbody tr th:only-of-type {\n",
       "        vertical-align: middle;\n",
       "    }\n",
       "\n",
       "    .dataframe tbody tr th {\n",
       "        vertical-align: top;\n",
       "    }\n",
       "\n",
       "    .dataframe thead th {\n",
       "        text-align: right;\n",
       "    }\n",
       "</style>\n",
       "<table border=\"1\" class=\"dataframe\">\n",
       "  <thead>\n",
       "    <tr style=\"text-align: right;\">\n",
       "      <th></th>\n",
       "      <th>Academic Year|ID Student|Race Effectiveness|Exercise1 Effectiveness|Exercise2 Effectiveness|Exercise3 Effectiveness|Exercise4 Effectiveness|Race Effectiveness Increase|Exercise1 Effectiveness Increase|Exercise 2 Effectiveness Increase|Exercise3 Effectiveness Increase|Exercise4 Effectiveness Increase|Race Participation|Exercise1 Participation|Exercise2 Participation|Exercise3 Participation|Exercise4 Participation|Race Dropout|Exercise1 Dropout|Exercise2 Dropout|Exercise3 Dropout|Exercise4 Dropout|Race Active Time|Exercise1 Active Time|Exercise2 Active Time|Exercise3 Active Time|Exercise4 Active Time|Race Number Executions|Exercise1 Number Executions|Exercise2 Number Executions|Exercise3 Number Executions|Exercise4 Number Executions</th>\n",
       "    </tr>\n",
       "  </thead>\n",
       "  <tbody>\n",
       "    <tr>\n",
       "      <th>230</th>\n",
       "      <td>2020-2021|20-21Student131|100|100|100|100.0|10...</td>\n",
       "    </tr>\n",
       "    <tr>\n",
       "      <th>231</th>\n",
       "      <td>2020-2021|20-21Student132|100|100|100|100.0|10...</td>\n",
       "    </tr>\n",
       "    <tr>\n",
       "      <th>232</th>\n",
       "      <td>2020-2021|20-21Student133|100|100|100|100.0|10...</td>\n",
       "    </tr>\n",
       "    <tr>\n",
       "      <th>233</th>\n",
       "      <td>2020-2021|20-21Student134|100|100|100|100.0|10...</td>\n",
       "    </tr>\n",
       "    <tr>\n",
       "      <th>234</th>\n",
       "      <td>2020-2021|20-21Student135|100|100|100|100.0|10...</td>\n",
       "    </tr>\n",
       "  </tbody>\n",
       "</table>\n",
       "</div>"
      ],
      "text/plain": [
       "    Academic Year|ID Student|Race Effectiveness|Exercise1 Effectiveness|Exercise2 Effectiveness|Exercise3 Effectiveness|Exercise4 Effectiveness|Race Effectiveness Increase|Exercise1 Effectiveness Increase|Exercise 2 Effectiveness Increase|Exercise3 Effectiveness Increase|Exercise4 Effectiveness Increase|Race Participation|Exercise1 Participation|Exercise2 Participation|Exercise3 Participation|Exercise4 Participation|Race Dropout|Exercise1 Dropout|Exercise2 Dropout|Exercise3 Dropout|Exercise4 Dropout|Race Active Time|Exercise1 Active Time|Exercise2 Active Time|Exercise3 Active Time|Exercise4 Active Time|Race Number Executions|Exercise1 Number Executions|Exercise2 Number Executions|Exercise3 Number Executions|Exercise4 Number Executions\n",
       "230  2020-2021|20-21Student131|100|100|100|100.0|10...                                                                                                                                                                                                                                                                                                                                                                                                                                                                                                                                                                                                                                                                                                                  \n",
       "231  2020-2021|20-21Student132|100|100|100|100.0|10...                                                                                                                                                                                                                                                                                                                                                                                                                                                                                                                                                                                                                                                                                                                  \n",
       "232  2020-2021|20-21Student133|100|100|100|100.0|10...                                                                                                                                                                                                                                                                                                                                                                                                                                                                                                                                                                                                                                                                                                                  \n",
       "233  2020-2021|20-21Student134|100|100|100|100.0|10...                                                                                                                                                                                                                                                                                                                                                                                                                                                                                                                                                                                                                                                                                                                  \n",
       "234  2020-2021|20-21Student135|100|100|100|100.0|10...                                                                                                                                                                                                                                                                                                                                                                                                                                                                                                                                                                                                                                                                                                                  "
      ]
     },
     "execution_count": 10,
     "metadata": {},
     "output_type": "execute_result"
    }
   ],
   "source": [
    "df.tail()"
   ]
  },
  {
   "cell_type": "code",
   "execution_count": 11,
   "id": "d64f5629",
   "metadata": {},
   "outputs": [
    {
     "name": "stdout",
     "output_type": "stream",
     "text": [
      "<class 'pandas.core.frame.DataFrame'>\n",
      "RangeIndex: 235 entries, 0 to 234\n",
      "Data columns (total 1 columns):\n",
      " #   Column                                                                                                                                                                                                                                                                                                                                                                                                                                                                                                                                                                                                                                                                                                                                                                Non-Null Count  Dtype \n",
      "---  ------                                                                                                                                                                                                                                                                                                                                                                                                                                                                                                                                                                                                                                                                                                                                                                --------------  ----- \n",
      " 0   Academic Year|ID Student|Race Effectiveness|Exercise1 Effectiveness|Exercise2 Effectiveness|Exercise3 Effectiveness|Exercise4 Effectiveness|Race Effectiveness Increase|Exercise1 Effectiveness Increase|Exercise 2 Effectiveness Increase|Exercise3 Effectiveness Increase|Exercise4 Effectiveness Increase|Race Participation|Exercise1 Participation|Exercise2 Participation|Exercise3 Participation|Exercise4 Participation|Race Dropout|Exercise1 Dropout|Exercise2 Dropout|Exercise3 Dropout|Exercise4 Dropout|Race Active Time|Exercise1 Active Time|Exercise2 Active Time|Exercise3 Active Time|Exercise4 Active Time|Race Number Executions|Exercise1 Number Executions|Exercise2 Number Executions|Exercise3 Number Executions|Exercise4 Number Executions  235 non-null    object\n",
      "dtypes: object(1)\n",
      "memory usage: 2.0+ KB\n"
     ]
    }
   ],
   "source": [
    "df.info()"
   ]
  },
  {
   "cell_type": "code",
   "execution_count": 12,
   "id": "3e31cb21",
   "metadata": {},
   "outputs": [
    {
     "data": {
      "text/plain": [
       "Academic Year|ID Student|Race Effectiveness|Exercise1 Effectiveness|Exercise2 Effectiveness|Exercise3 Effectiveness|Exercise4 Effectiveness|Race Effectiveness Increase|Exercise1 Effectiveness Increase|Exercise 2 Effectiveness Increase|Exercise3 Effectiveness Increase|Exercise4 Effectiveness Increase|Race Participation|Exercise1 Participation|Exercise2 Participation|Exercise3 Participation|Exercise4 Participation|Race Dropout|Exercise1 Dropout|Exercise2 Dropout|Exercise3 Dropout|Exercise4 Dropout|Race Active Time|Exercise1 Active Time|Exercise2 Active Time|Exercise3 Active Time|Exercise4 Active Time|Race Number Executions|Exercise1 Number Executions|Exercise2 Number Executions|Exercise3 Number Executions|Exercise4 Number Executions    2019-2020|19-20Student001|19|0|55|7.0|0.0|0.07...\n",
       "Name: 0, dtype: object"
      ]
     },
     "execution_count": 12,
     "metadata": {},
     "output_type": "execute_result"
    }
   ],
   "source": [
    "df.loc[0]"
   ]
  },
  {
   "cell_type": "code",
   "execution_count": 13,
   "id": "7389c93f",
   "metadata": {},
   "outputs": [
    {
     "data": {
      "text/plain": [
       "'2019-2020|19-20Student001|19|0|55|7.0|0.0|0.07|0.0|0.31|0.0|0.0|0|0|1|0.0|0.0|0|0|0|0|0.0|5|1|2|1|1|12|1|9|1|1'"
      ]
     },
     "execution_count": 13,
     "metadata": {},
     "output_type": "execute_result"
    }
   ],
   "source": [
    "df.iloc[0,0]"
   ]
  },
  {
   "cell_type": "code",
   "execution_count": 15,
   "id": "257e86d1",
   "metadata": {},
   "outputs": [
    {
     "data": {
      "text/html": [
       "<div>\n",
       "<style scoped>\n",
       "    .dataframe tbody tr th:only-of-type {\n",
       "        vertical-align: middle;\n",
       "    }\n",
       "\n",
       "    .dataframe tbody tr th {\n",
       "        vertical-align: top;\n",
       "    }\n",
       "\n",
       "    .dataframe thead th {\n",
       "        text-align: right;\n",
       "    }\n",
       "</style>\n",
       "<table border=\"1\" class=\"dataframe\">\n",
       "  <thead>\n",
       "    <tr style=\"text-align: right;\">\n",
       "      <th></th>\n",
       "      <th>Academic Year|ID Student|Race Effectiveness|Exercise1 Effectiveness|Exercise2 Effectiveness|Exercise3 Effectiveness|Exercise4 Effectiveness|Race Effectiveness Increase|Exercise1 Effectiveness Increase|Exercise 2 Effectiveness Increase|Exercise3 Effectiveness Increase|Exercise4 Effectiveness Increase|Race Participation|Exercise1 Participation|Exercise2 Participation|Exercise3 Participation|Exercise4 Participation|Race Dropout|Exercise1 Dropout|Exercise2 Dropout|Exercise3 Dropout|Exercise4 Dropout|Race Active Time|Exercise1 Active Time|Exercise2 Active Time|Exercise3 Active Time|Exercise4 Active Time|Race Number Executions|Exercise1 Number Executions|Exercise2 Number Executions|Exercise3 Number Executions|Exercise4 Number Executions</th>\n",
       "    </tr>\n",
       "  </thead>\n",
       "  <tbody>\n",
       "    <tr>\n",
       "      <th>3</th>\n",
       "      <td>2019-2020|19-20Student004|89|100|100|53.0|100....</td>\n",
       "    </tr>\n",
       "    <tr>\n",
       "      <th>4</th>\n",
       "      <td>2019-2020|19-20Student005|84|100|100|40.0|91.0...</td>\n",
       "    </tr>\n",
       "  </tbody>\n",
       "</table>\n",
       "</div>"
      ],
      "text/plain": [
       "  Academic Year|ID Student|Race Effectiveness|Exercise1 Effectiveness|Exercise2 Effectiveness|Exercise3 Effectiveness|Exercise4 Effectiveness|Race Effectiveness Increase|Exercise1 Effectiveness Increase|Exercise 2 Effectiveness Increase|Exercise3 Effectiveness Increase|Exercise4 Effectiveness Increase|Race Participation|Exercise1 Participation|Exercise2 Participation|Exercise3 Participation|Exercise4 Participation|Race Dropout|Exercise1 Dropout|Exercise2 Dropout|Exercise3 Dropout|Exercise4 Dropout|Race Active Time|Exercise1 Active Time|Exercise2 Active Time|Exercise3 Active Time|Exercise4 Active Time|Race Number Executions|Exercise1 Number Executions|Exercise2 Number Executions|Exercise3 Number Executions|Exercise4 Number Executions\n",
       "3  2019-2020|19-20Student004|89|100|100|53.0|100....                                                                                                                                                                                                                                                                                                                                                                                                                                                                                                                                                                                                                                                                                                                  \n",
       "4  2019-2020|19-20Student005|84|100|100|40.0|91.0...                                                                                                                                                                                                                                                                                                                                                                                                                                                                                                                                                                                                                                                                                                                  "
      ]
     },
     "execution_count": 15,
     "metadata": {},
     "output_type": "execute_result"
    }
   ],
   "source": [
    "df.iloc[[3,4]]"
   ]
  },
  {
   "cell_type": "code",
   "execution_count": 16,
   "id": "47d3fb67",
   "metadata": {},
   "outputs": [],
   "source": [
    "x=df.iloc[:,:-1]"
   ]
  },
  {
   "cell_type": "code",
   "execution_count": 17,
   "id": "a5cf09f0",
   "metadata": {},
   "outputs": [
    {
     "data": {
      "text/html": [
       "<div>\n",
       "<style scoped>\n",
       "    .dataframe tbody tr th:only-of-type {\n",
       "        vertical-align: middle;\n",
       "    }\n",
       "\n",
       "    .dataframe tbody tr th {\n",
       "        vertical-align: top;\n",
       "    }\n",
       "\n",
       "    .dataframe thead th {\n",
       "        text-align: right;\n",
       "    }\n",
       "</style>\n",
       "<table border=\"1\" class=\"dataframe\">\n",
       "  <thead>\n",
       "    <tr style=\"text-align: right;\">\n",
       "      <th></th>\n",
       "    </tr>\n",
       "  </thead>\n",
       "  <tbody>\n",
       "    <tr>\n",
       "      <th>0</th>\n",
       "    </tr>\n",
       "    <tr>\n",
       "      <th>1</th>\n",
       "    </tr>\n",
       "    <tr>\n",
       "      <th>2</th>\n",
       "    </tr>\n",
       "    <tr>\n",
       "      <th>3</th>\n",
       "    </tr>\n",
       "    <tr>\n",
       "      <th>4</th>\n",
       "    </tr>\n",
       "    <tr>\n",
       "      <th>...</th>\n",
       "    </tr>\n",
       "    <tr>\n",
       "      <th>230</th>\n",
       "    </tr>\n",
       "    <tr>\n",
       "      <th>231</th>\n",
       "    </tr>\n",
       "    <tr>\n",
       "      <th>232</th>\n",
       "    </tr>\n",
       "    <tr>\n",
       "      <th>233</th>\n",
       "    </tr>\n",
       "    <tr>\n",
       "      <th>234</th>\n",
       "    </tr>\n",
       "  </tbody>\n",
       "</table>\n",
       "<p>235 rows × 0 columns</p>\n",
       "</div>"
      ],
      "text/plain": [
       "Empty DataFrame\n",
       "Columns: []\n",
       "Index: [0, 1, 2, 3, 4, 5, 6, 7, 8, 9, 10, 11, 12, 13, 14, 15, 16, 17, 18, 19, 20, 21, 22, 23, 24, 25, 26, 27, 28, 29, 30, 31, 32, 33, 34, 35, 36, 37, 38, 39, 40, 41, 42, 43, 44, 45, 46, 47, 48, 49, 50, 51, 52, 53, 54, 55, 56, 57, 58, 59, 60, 61, 62, 63, 64, 65, 66, 67, 68, 69, 70, 71, 72, 73, 74, 75, 76, 77, 78, 79, 80, 81, 82, 83, 84, 85, 86, 87, 88, 89, 90, 91, 92, 93, 94, 95, 96, 97, 98, 99, ...]\n",
       "\n",
       "[235 rows x 0 columns]"
      ]
     },
     "execution_count": 17,
     "metadata": {},
     "output_type": "execute_result"
    }
   ],
   "source": [
    "x"
   ]
  },
  {
   "cell_type": "code",
   "execution_count": 18,
   "id": "8d72df5c",
   "metadata": {},
   "outputs": [
    {
     "data": {
      "text/html": [
       "<div>\n",
       "<style scoped>\n",
       "    .dataframe tbody tr th:only-of-type {\n",
       "        vertical-align: middle;\n",
       "    }\n",
       "\n",
       "    .dataframe tbody tr th {\n",
       "        vertical-align: top;\n",
       "    }\n",
       "\n",
       "    .dataframe thead th {\n",
       "        text-align: right;\n",
       "    }\n",
       "</style>\n",
       "<table border=\"1\" class=\"dataframe\">\n",
       "  <thead>\n",
       "    <tr style=\"text-align: right;\">\n",
       "      <th></th>\n",
       "    </tr>\n",
       "  </thead>\n",
       "  <tbody>\n",
       "    <tr>\n",
       "      <th>0</th>\n",
       "    </tr>\n",
       "    <tr>\n",
       "      <th>1</th>\n",
       "    </tr>\n",
       "    <tr>\n",
       "      <th>2</th>\n",
       "    </tr>\n",
       "    <tr>\n",
       "      <th>3</th>\n",
       "    </tr>\n",
       "    <tr>\n",
       "      <th>4</th>\n",
       "    </tr>\n",
       "    <tr>\n",
       "      <th>...</th>\n",
       "    </tr>\n",
       "    <tr>\n",
       "      <th>230</th>\n",
       "    </tr>\n",
       "    <tr>\n",
       "      <th>231</th>\n",
       "    </tr>\n",
       "    <tr>\n",
       "      <th>232</th>\n",
       "    </tr>\n",
       "    <tr>\n",
       "      <th>233</th>\n",
       "    </tr>\n",
       "    <tr>\n",
       "      <th>234</th>\n",
       "    </tr>\n",
       "  </tbody>\n",
       "</table>\n",
       "<p>235 rows × 0 columns</p>\n",
       "</div>"
      ],
      "text/plain": [
       "Empty DataFrame\n",
       "Columns: []\n",
       "Index: [0, 1, 2, 3, 4, 5, 6, 7, 8, 9, 10, 11, 12, 13, 14, 15, 16, 17, 18, 19, 20, 21, 22, 23, 24, 25, 26, 27, 28, 29, 30, 31, 32, 33, 34, 35, 36, 37, 38, 39, 40, 41, 42, 43, 44, 45, 46, 47, 48, 49, 50, 51, 52, 53, 54, 55, 56, 57, 58, 59, 60, 61, 62, 63, 64, 65, 66, 67, 68, 69, 70, 71, 72, 73, 74, 75, 76, 77, 78, 79, 80, 81, 82, 83, 84, 85, 86, 87, 88, 89, 90, 91, 92, 93, 94, 95, 96, 97, 98, 99, ...]\n",
       "\n",
       "[235 rows x 0 columns]"
      ]
     },
     "execution_count": 18,
     "metadata": {},
     "output_type": "execute_result"
    }
   ],
   "source": [
    "y=df.iloc[:,:-1]\n",
    "y"
   ]
  },
  {
   "cell_type": "code",
   "execution_count": 21,
   "id": "d6f93834",
   "metadata": {},
   "outputs": [
    {
     "data": {
      "text/plain": [
       "Index(['Academic Year|ID Student|Race Effectiveness|Exercise1 Effectiveness|Exercise2 Effectiveness|Exercise3 Effectiveness|Exercise4 Effectiveness|Race Effectiveness Increase|Exercise1 Effectiveness Increase|Exercise 2 Effectiveness Increase|Exercise3 Effectiveness Increase|Exercise4 Effectiveness Increase|Race Participation|Exercise1 Participation|Exercise2 Participation|Exercise3 Participation|Exercise4 Participation|Race Dropout|Exercise1 Dropout|Exercise2 Dropout|Exercise3 Dropout|Exercise4 Dropout|Race Active Time|Exercise1 Active Time|Exercise2 Active Time|Exercise3 Active Time|Exercise4 Active Time|Race Number Executions|Exercise1 Number Executions|Exercise2 Number Executions|Exercise3 Number Executions|Exercise4 Number Executions'], dtype='object')"
      ]
     },
     "execution_count": 21,
     "metadata": {},
     "output_type": "execute_result"
    }
   ],
   "source": [
    "df.columns"
   ]
  },
  {
   "cell_type": "code",
   "execution_count": 23,
   "id": "c240a451",
   "metadata": {},
   "outputs": [
    {
     "data": {
      "text/plain": [
       "Academic Year|ID Student|Race Effectiveness|Exercise1 Effectiveness|Exercise2 Effectiveness|Exercise3 Effectiveness|Exercise4 Effectiveness|Race Effectiveness Increase|Exercise1 Effectiveness Increase|Exercise 2 Effectiveness Increase|Exercise3 Effectiveness Increase|Exercise4 Effectiveness Increase|Race Participation|Exercise1 Participation|Exercise2 Participation|Exercise3 Participation|Exercise4 Participation|Race Dropout|Exercise1 Dropout|Exercise2 Dropout|Exercise3 Dropout|Exercise4 Dropout|Race Active Time|Exercise1 Active Time|Exercise2 Active Time|Exercise3 Active Time|Exercise4 Active Time|Race Number Executions|Exercise1 Number Executions|Exercise2 Number Executions|Exercise3 Number Executions|Exercise4 Number Executions    0\n",
       "dtype: int64"
      ]
     },
     "execution_count": 23,
     "metadata": {},
     "output_type": "execute_result"
    }
   ],
   "source": [
    "df.isnull().sum()\n"
   ]
  },
  {
   "cell_type": "code",
   "execution_count": null,
   "id": "efbaa21c",
   "metadata": {},
   "outputs": [],
   "source": []
  },
  {
   "cell_type": "code",
   "execution_count": null,
   "id": "74820b6c",
   "metadata": {},
   "outputs": [],
   "source": []
  }
 ],
 "metadata": {
  "kernelspec": {
   "display_name": "Python 3 (ipykernel)",
   "language": "python",
   "name": "python3"
  },
  "language_info": {
   "codemirror_mode": {
    "name": "ipython",
    "version": 3
   },
   "file_extension": ".py",
   "mimetype": "text/x-python",
   "name": "python",
   "nbconvert_exporter": "python",
   "pygments_lexer": "ipython3",
   "version": "3.11.5"
  }
 },
 "nbformat": 4,
 "nbformat_minor": 5
}
